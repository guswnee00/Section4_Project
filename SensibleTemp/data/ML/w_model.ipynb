{
 "cells": [
  {
   "attachments": {},
   "cell_type": "markdown",
   "metadata": {},
   "source": [
    "#### 겨울철 체감 온도 예측 머신러닝 모델"
   ]
  },
  {
   "cell_type": "code",
   "execution_count": 5,
   "metadata": {},
   "outputs": [],
   "source": [
    "# 라이브러리 불러오기\n",
    "import pandas as pd\n",
    "import seaborn as sns\n",
    "from sklearn.model_selection import train_test_split\n",
    "from sklearn.linear_model import LinearRegression\n",
    "from sklearn.metrics import r2_score, mean_absolute_error\n",
    "import joblib"
   ]
  },
  {
   "cell_type": "code",
   "execution_count": 6,
   "metadata": {},
   "outputs": [
    {
     "data": {
      "text/html": [
       "<div>\n",
       "<style scoped>\n",
       "    .dataframe tbody tr th:only-of-type {\n",
       "        vertical-align: middle;\n",
       "    }\n",
       "\n",
       "    .dataframe tbody tr th {\n",
       "        vertical-align: top;\n",
       "    }\n",
       "\n",
       "    .dataframe thead th {\n",
       "        text-align: right;\n",
       "    }\n",
       "</style>\n",
       "<table border=\"1\" class=\"dataframe\">\n",
       "  <thead>\n",
       "    <tr style=\"text-align: right;\">\n",
       "      <th></th>\n",
       "      <th>Date</th>\n",
       "      <th>Temperature</th>\n",
       "      <th>WindSpeed</th>\n",
       "      <th>SensibleTemp</th>\n",
       "    </tr>\n",
       "  </thead>\n",
       "  <tbody>\n",
       "    <tr>\n",
       "      <th>0</th>\n",
       "      <td>2000-01-01</td>\n",
       "      <td>1.8</td>\n",
       "      <td>10.1</td>\n",
       "      <td>-1.2</td>\n",
       "    </tr>\n",
       "    <tr>\n",
       "      <th>1</th>\n",
       "      <td>2000-01-02</td>\n",
       "      <td>-0.3</td>\n",
       "      <td>20.2</td>\n",
       "      <td>-5.7</td>\n",
       "    </tr>\n",
       "    <tr>\n",
       "      <th>2</th>\n",
       "      <td>2000-01-03</td>\n",
       "      <td>-4.6</td>\n",
       "      <td>13.0</td>\n",
       "      <td>-9.6</td>\n",
       "    </tr>\n",
       "    <tr>\n",
       "      <th>3</th>\n",
       "      <td>2000-01-04</td>\n",
       "      <td>-4.4</td>\n",
       "      <td>7.2</td>\n",
       "      <td>-7.6</td>\n",
       "    </tr>\n",
       "    <tr>\n",
       "      <th>4</th>\n",
       "      <td>2000-01-05</td>\n",
       "      <td>0.0</td>\n",
       "      <td>13.3</td>\n",
       "      <td>-4.1</td>\n",
       "    </tr>\n",
       "  </tbody>\n",
       "</table>\n",
       "</div>"
      ],
      "text/plain": [
       "         Date  Temperature  WindSpeed  SensibleTemp\n",
       "0  2000-01-01          1.8       10.1          -1.2\n",
       "1  2000-01-02         -0.3       20.2          -5.7\n",
       "2  2000-01-03         -4.6       13.0          -9.6\n",
       "3  2000-01-04         -4.4        7.2          -7.6\n",
       "4  2000-01-05          0.0       13.3          -4.1"
      ]
     },
     "execution_count": 6,
     "metadata": {},
     "output_type": "execute_result"
    }
   ],
   "source": [
    "# csv 파일 읽어오기\n",
    "data = pd.read_csv('/Users/hyunjulee/project/SensibleTemp/data/csv/winter.csv')\n",
    "data.head()"
   ]
  },
  {
   "cell_type": "code",
   "execution_count": 7,
   "metadata": {},
   "outputs": [
    {
     "data": {
      "text/html": [
       "<div>\n",
       "<style scoped>\n",
       "    .dataframe tbody tr th:only-of-type {\n",
       "        vertical-align: middle;\n",
       "    }\n",
       "\n",
       "    .dataframe tbody tr th {\n",
       "        vertical-align: top;\n",
       "    }\n",
       "\n",
       "    .dataframe thead th {\n",
       "        text-align: right;\n",
       "    }\n",
       "</style>\n",
       "<table border=\"1\" class=\"dataframe\">\n",
       "  <thead>\n",
       "    <tr style=\"text-align: right;\">\n",
       "      <th></th>\n",
       "      <th>Temperature</th>\n",
       "      <th>WindSpeed</th>\n",
       "      <th>SensibleTemp</th>\n",
       "    </tr>\n",
       "  </thead>\n",
       "  <tbody>\n",
       "    <tr>\n",
       "      <th>0</th>\n",
       "      <td>1.8</td>\n",
       "      <td>10.1</td>\n",
       "      <td>-1.2</td>\n",
       "    </tr>\n",
       "    <tr>\n",
       "      <th>1</th>\n",
       "      <td>-0.3</td>\n",
       "      <td>20.2</td>\n",
       "      <td>-5.7</td>\n",
       "    </tr>\n",
       "    <tr>\n",
       "      <th>2</th>\n",
       "      <td>-4.6</td>\n",
       "      <td>13.0</td>\n",
       "      <td>-9.6</td>\n",
       "    </tr>\n",
       "    <tr>\n",
       "      <th>3</th>\n",
       "      <td>-4.4</td>\n",
       "      <td>7.2</td>\n",
       "      <td>-7.6</td>\n",
       "    </tr>\n",
       "    <tr>\n",
       "      <th>4</th>\n",
       "      <td>0.0</td>\n",
       "      <td>13.3</td>\n",
       "      <td>-4.1</td>\n",
       "    </tr>\n",
       "  </tbody>\n",
       "</table>\n",
       "</div>"
      ],
      "text/plain": [
       "   Temperature  WindSpeed  SensibleTemp\n",
       "0          1.8       10.1          -1.2\n",
       "1         -0.3       20.2          -5.7\n",
       "2         -4.6       13.0          -9.6\n",
       "3         -4.4        7.2          -7.6\n",
       "4          0.0       13.3          -4.1"
      ]
     },
     "execution_count": 7,
     "metadata": {},
     "output_type": "execute_result"
    }
   ],
   "source": [
    "# 일자는 학습에 필요없으니까 drop\n",
    "df = data.drop('Date', axis=1)\n",
    "df.head()"
   ]
  },
  {
   "cell_type": "code",
   "execution_count": 4,
   "metadata": {},
   "outputs": [
    {
     "name": "stdout",
     "output_type": "stream",
     "text": [
      "겨울철 최고 체감 온도 :  9.8\n",
      "겨울철 최저 체감 온도 :  -27.7\n"
     ]
    }
   ],
   "source": [
    "# 최저 체감 온도, 최고 체감 온도\n",
    "print('겨울철 최고 체감 온도 : ', df['SensibleTemp'].max())\n",
    "print('겨울철 최저 체감 온도 : ', df['SensibleTemp'].min())"
   ]
  },
  {
   "cell_type": "code",
   "execution_count": 8,
   "metadata": {},
   "outputs": [
    {
     "name": "stdout",
     "output_type": "stream",
     "text": [
      "train set: (2560, 2) (2560,)\n",
      "val set: (640, 2) (640,)\n",
      "test set: (801, 2) (801,)\n"
     ]
    }
   ],
   "source": [
    "# target / features 분리\n",
    "target = 'SensibleTemp'\n",
    "features = df.drop(target, axis=1).columns\n",
    "\n",
    "# X / y 분리\n",
    "X = df[features]\n",
    "y = df[target]\n",
    "\n",
    "# train / val / test 분리\n",
    "X_train, X_test, y_train, y_test = train_test_split(X, y, test_size=0.2)\n",
    "X_train, X_val, y_train, y_val = train_test_split(X_train, y_train, test_size=0.2)\n",
    "\n",
    "# 확인\n",
    "print('train set:', X_train.shape, y_train.shape)\n",
    "print('val set:', X_val.shape, y_val.shape)\n",
    "print('test set:', X_test.shape, y_test.shape)"
   ]
  },
  {
   "cell_type": "code",
   "execution_count": 9,
   "metadata": {},
   "outputs": [
    {
     "name": "stdout",
     "output_type": "stream",
     "text": [
      "train r2 score :  0.9985973528950514\n",
      "train MAE score :  0.19643970600502825\n",
      "\n",
      "val r2 score :  0.9986731636510925\n",
      "val MAE score :  0.19142073734046092\n"
     ]
    }
   ],
   "source": [
    "# 다중 선형 회귀 학습\n",
    "model = LinearRegression()\n",
    "model.fit(X_train, y_train)\n",
    "\n",
    "# 다중 선형 회귀 r2, mae\n",
    "pred_train = model.predict(X_train)\n",
    "pred_val = model.predict(X_val)\n",
    "model_r2 = r2_score(y_val, pred_val)\n",
    "model_mae = mean_absolute_error(y_val, pred_val)\n",
    "\n",
    "# 다중 선형 회귀 r2, mae\n",
    "print('train r2 score : ', r2_score(y_train,pred_train))\n",
    "print('train MAE score : ', mean_absolute_error(y_train,pred_train))\n",
    "print('')\n",
    "print('val r2 score : ', model_r2)\n",
    "print('val MAE score : ', model_mae)"
   ]
  },
  {
   "cell_type": "code",
   "execution_count": 10,
   "metadata": {},
   "outputs": [
    {
     "name": "stdout",
     "output_type": "stream",
     "text": [
      "test r2 score :  0.9987301214765899\n",
      "test mae score :  0.20210264286065907\n"
     ]
    }
   ],
   "source": [
    "# 일반화성능 확인\n",
    "pred_test = model.predict(X_test)\n",
    "\n",
    "print('test r2 score : ', r2_score(y_test, pred_test))\n",
    "print('test mae score : ', mean_absolute_error(y_test, pred_test))"
   ]
  },
  {
   "cell_type": "code",
   "execution_count": 11,
   "metadata": {},
   "outputs": [
    {
     "data": {
      "image/png": "[encoded data removed]",
      "text/plain": [
       "<Figure size 640x480 with 1 Axes>"
      ]
     },
     "metadata": {},
     "output_type": "display_data"
    }
   ],
   "source": [
    "# 시각화\n",
    "result  = pd.concat([y_test.reset_index(drop=True), pd.DataFrame(pred_test)], axis = 1)\n",
    "result.columns = ['real', 'predict']\n",
    "sns.regplot(x = 'real', y = 'predict', data = result, \n",
    "            line_kws={\"color\": \"red\"}, scatter_kws={\"color\": \"blue\"});"
   ]
  },
  {
   "cell_type": "code",
   "execution_count": 12,
   "metadata": {},
   "outputs": [
    {
     "data": {
      "text/plain": [
       "['/Users/hyunjulee/project/SensibleTemp/data/pkl/w_multiple_ols.pkl']"
      ]
     },
     "execution_count": 12,
     "metadata": {},
     "output_type": "execute_result"
    }
   ],
   "source": [
    "# 모델 피클링\n",
    "joblib.dump(model, '/Users/hyunjulee/project/SensibleTemp/data/pkl/w_multiple_ols.pkl')\n"
   ]
  },
  {
   "cell_type": "code",
   "execution_count": 13,
   "metadata": {},
   "outputs": [
    {
     "data": {
      "text/plain": [
       "LinearRegression()"
      ]
     },
     "execution_count": 13,
     "metadata": {},
     "output_type": "execute_result"
    }
   ],
   "source": [
    "# 잘 불러와 지는지 확인\n",
    "load_model = joblib.load('/Users/hyunjulee/project/SensibleTemp/data/pkl/w_multiple_ols.pkl')\n",
    "load_model"
   ]
  }
 ],
 "metadata": {
  "kernelspec": {
   "display_name": "project",
   "language": "python",
   "name": "python3"
  },
  "language_info": {
   "codemirror_mode": {
    "name": "ipython",
    "version": 3
   },
   "file_extension": ".py",
   "mimetype": "text/x-python",
   "name": "python",
   "nbconvert_exporter": "python",
   "pygments_lexer": "ipython3",
   "version": "3.8.16"
  },
  "orig_nbformat": 4
 },
 "nbformat": 4,
 "nbformat_minor": 2
}
