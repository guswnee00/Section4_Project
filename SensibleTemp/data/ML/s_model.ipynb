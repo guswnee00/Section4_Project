{
 "cells": [
  {
   "attachments": {},
   "cell_type": "markdown",
   "metadata": {},
   "source": [
    "#### 여름철 체감 온도 예측 머신러닝 모델"
   ]
  },
  {
   "cell_type": "code",
   "execution_count": 15,
   "metadata": {},
   "outputs": [],
   "source": [
    "# 라이브러리 불러오기\n",
    "import pandas as pd\n",
    "import seaborn as sns\n",
    "from sklearn.model_selection import train_test_split\n",
    "from sklearn.linear_model import LinearRegression\n",
    "from sklearn.metrics import r2_score, mean_absolute_error\n",
    "import joblib"
   ]
  },
  {
   "cell_type": "code",
   "execution_count": 16,
   "metadata": {},
   "outputs": [
    {
     "data": {
      "text/html": [
       "<div>\n",
       "<style scoped>\n",
       "    .dataframe tbody tr th:only-of-type {\n",
       "        vertical-align: middle;\n",
       "    }\n",
       "\n",
       "    .dataframe tbody tr th {\n",
       "        vertical-align: top;\n",
       "    }\n",
       "\n",
       "    .dataframe thead th {\n",
       "        text-align: right;\n",
       "    }\n",
       "</style>\n",
       "<table border=\"1\" class=\"dataframe\">\n",
       "  <thead>\n",
       "    <tr style=\"text-align: right;\">\n",
       "      <th></th>\n",
       "      <th>Date</th>\n",
       "      <th>Temperature</th>\n",
       "      <th>Humidity</th>\n",
       "      <th>SensibleTemp</th>\n",
       "    </tr>\n",
       "  </thead>\n",
       "  <tbody>\n",
       "    <tr>\n",
       "      <th>0</th>\n",
       "      <td>2000-05-01</td>\n",
       "      <td>19.2</td>\n",
       "      <td>55.9</td>\n",
       "      <td>20.0</td>\n",
       "    </tr>\n",
       "    <tr>\n",
       "      <th>1</th>\n",
       "      <td>2000-05-02</td>\n",
       "      <td>19.8</td>\n",
       "      <td>40.3</td>\n",
       "      <td>19.4</td>\n",
       "    </tr>\n",
       "    <tr>\n",
       "      <th>2</th>\n",
       "      <td>2000-05-03</td>\n",
       "      <td>21.9</td>\n",
       "      <td>38.3</td>\n",
       "      <td>21.2</td>\n",
       "    </tr>\n",
       "    <tr>\n",
       "      <th>3</th>\n",
       "      <td>2000-05-04</td>\n",
       "      <td>23.9</td>\n",
       "      <td>31.9</td>\n",
       "      <td>22.4</td>\n",
       "    </tr>\n",
       "    <tr>\n",
       "      <th>4</th>\n",
       "      <td>2000-05-05</td>\n",
       "      <td>21.9</td>\n",
       "      <td>39.2</td>\n",
       "      <td>21.2</td>\n",
       "    </tr>\n",
       "  </tbody>\n",
       "</table>\n",
       "</div>"
      ],
      "text/plain": [
       "         Date  Temperature  Humidity  SensibleTemp\n",
       "0  2000-05-01         19.2      55.9          20.0\n",
       "1  2000-05-02         19.8      40.3          19.4\n",
       "2  2000-05-03         21.9      38.3          21.2\n",
       "3  2000-05-04         23.9      31.9          22.4\n",
       "4  2000-05-05         21.9      39.2          21.2"
      ]
     },
     "execution_count": 16,
     "metadata": {},
     "output_type": "execute_result"
    }
   ],
   "source": [
    "# csv 파일 읽어오기\n",
    "data = pd.read_csv('/Users/hyunjulee/project/SensibleTemp/data/csv/summer.csv')\n",
    "data.head()"
   ]
  },
  {
   "cell_type": "code",
   "execution_count": 17,
   "metadata": {},
   "outputs": [
    {
     "data": {
      "text/html": [
       "<div>\n",
       "<style scoped>\n",
       "    .dataframe tbody tr th:only-of-type {\n",
       "        vertical-align: middle;\n",
       "    }\n",
       "\n",
       "    .dataframe tbody tr th {\n",
       "        vertical-align: top;\n",
       "    }\n",
       "\n",
       "    .dataframe thead th {\n",
       "        text-align: right;\n",
       "    }\n",
       "</style>\n",
       "<table border=\"1\" class=\"dataframe\">\n",
       "  <thead>\n",
       "    <tr style=\"text-align: right;\">\n",
       "      <th></th>\n",
       "      <th>Temperature</th>\n",
       "      <th>Humidity</th>\n",
       "      <th>SensibleTemp</th>\n",
       "    </tr>\n",
       "  </thead>\n",
       "  <tbody>\n",
       "    <tr>\n",
       "      <th>0</th>\n",
       "      <td>19.2</td>\n",
       "      <td>55.9</td>\n",
       "      <td>20.0</td>\n",
       "    </tr>\n",
       "    <tr>\n",
       "      <th>1</th>\n",
       "      <td>19.8</td>\n",
       "      <td>40.3</td>\n",
       "      <td>19.4</td>\n",
       "    </tr>\n",
       "    <tr>\n",
       "      <th>2</th>\n",
       "      <td>21.9</td>\n",
       "      <td>38.3</td>\n",
       "      <td>21.2</td>\n",
       "    </tr>\n",
       "    <tr>\n",
       "      <th>3</th>\n",
       "      <td>23.9</td>\n",
       "      <td>31.9</td>\n",
       "      <td>22.4</td>\n",
       "    </tr>\n",
       "    <tr>\n",
       "      <th>4</th>\n",
       "      <td>21.9</td>\n",
       "      <td>39.2</td>\n",
       "      <td>21.2</td>\n",
       "    </tr>\n",
       "  </tbody>\n",
       "</table>\n",
       "</div>"
      ],
      "text/plain": [
       "   Temperature  Humidity  SensibleTemp\n",
       "0         19.2      55.9          20.0\n",
       "1         19.8      40.3          19.4\n",
       "2         21.9      38.3          21.2\n",
       "3         23.9      31.9          22.4\n",
       "4         21.9      39.2          21.2"
      ]
     },
     "execution_count": 17,
     "metadata": {},
     "output_type": "execute_result"
    }
   ],
   "source": [
    "# 일자는 학습에 필요없으니까 drop\n",
    "df = data.drop('Date', axis=1)\n",
    "df.head()"
   ]
  },
  {
   "cell_type": "code",
   "execution_count": 18,
   "metadata": {},
   "outputs": [
    {
     "name": "stdout",
     "output_type": "stream",
     "text": [
      "여름철 최고 체감 온도 :  37.4\n",
      "여름철 최저 체감 온도 :  14.9\n"
     ]
    }
   ],
   "source": [
    "# 최저 체감 온도, 최고 체감 온도\n",
    "print('여름철 최고 체감 온도 : ', df['SensibleTemp'].max())\n",
    "print('여름철 최저 체감 온도 : ', df['SensibleTemp'].min())"
   ]
  },
  {
   "cell_type": "code",
   "execution_count": 19,
   "metadata": {},
   "outputs": [
    {
     "name": "stdout",
     "output_type": "stream",
     "text": [
      "train set: (2084, 2) (2084,)\n",
      "val set: (521, 2) (521,)\n",
      "test set: (652, 2) (652,)\n"
     ]
    }
   ],
   "source": [
    "# target / features 분리\n",
    "target = 'SensibleTemp'\n",
    "features = df.drop(target, axis=1).columns\n",
    "\n",
    "# X / y 분리\n",
    "X = df[features]\n",
    "y = df[target]\n",
    "\n",
    "# train / val / test 분리\n",
    "X_train, X_test, y_train, y_test = train_test_split(X, y, test_size=0.2)\n",
    "X_train, X_val, y_train, y_val = train_test_split(X_train, y_train, test_size=0.2)\n",
    "\n",
    "# 확인\n",
    "print('train set:', X_train.shape, y_train.shape)\n",
    "print('val set:', X_val.shape, y_val.shape)\n",
    "print('test set:', X_test.shape, y_test.shape)"
   ]
  },
  {
   "cell_type": "code",
   "execution_count": 20,
   "metadata": {},
   "outputs": [
    {
     "name": "stdout",
     "output_type": "stream",
     "text": [
      "train r2 score :  0.9963184693224669\n",
      "train MAE score :  0.16861040689433635\n",
      "\n",
      "val r2 score :  0.9965809014223485\n",
      "val MAE score :  0.1634580155431806\n"
     ]
    }
   ],
   "source": [
    "# 다중 선형 회귀 학습\n",
    "model = LinearRegression()\n",
    "model.fit(X_train, y_train)\n",
    "\n",
    "# 다중 선형 회귀 r2, mae\n",
    "pred_train = model.predict(X_train)\n",
    "pred_val = model.predict(X_val)\n",
    "model_r2 = r2_score(y_val, pred_val)\n",
    "model_mae = mean_absolute_error(y_val, pred_val)\n",
    "\n",
    "# 다중 선형 회귀 r2, mae\n",
    "print('train r2 score : ', r2_score(y_train,pred_train))\n",
    "print('train MAE score : ', mean_absolute_error(y_train,pred_train))\n",
    "print('')\n",
    "print('val r2 score : ', model_r2)\n",
    "print('val MAE score : ', model_mae)"
   ]
  },
  {
   "cell_type": "code",
   "execution_count": 21,
   "metadata": {},
   "outputs": [
    {
     "name": "stdout",
     "output_type": "stream",
     "text": [
      "test r2 score :  0.9954302157491461\n",
      "test mae score :  0.18710174024003973\n"
     ]
    }
   ],
   "source": [
    "# 일반화성능 확인\n",
    "pred_test = model.predict(X_test)\n",
    "\n",
    "print('test r2 score : ', r2_score(y_test, pred_test))\n",
    "print('test mae score : ', mean_absolute_error(y_test, pred_test))"
   ]
  },
  {
   "cell_type": "code",
   "execution_count": 22,
   "metadata": {},
   "outputs": [
    {
     "data": {
      "image/png": "[encoded data removed]",
      "text/plain": [
       "<Figure size 640x480 with 1 Axes>"
      ]
     },
     "metadata": {},
     "output_type": "display_data"
    }
   ],
   "source": [
    "# 시각화\n",
    "result  = pd.concat([y_test.reset_index(drop=True), pd.DataFrame(pred_test)], axis = 1)\n",
    "result.columns = ['real', 'predict']\n",
    "sns.regplot(x = 'real', y = 'predict', data = result,\n",
    "            line_kws={\"color\": \"red\"}, scatter_kws={\"color\": \"blue\"});"
   ]
  },
  {
   "cell_type": "code",
   "execution_count": 23,
   "metadata": {},
   "outputs": [
    {
     "data": {
      "text/plain": [
       "['/Users/hyunjulee/project/SensibleTemp/data/pkl/s_multiple_ols.pkl']"
      ]
     },
     "execution_count": 23,
     "metadata": {},
     "output_type": "execute_result"
    }
   ],
   "source": [
    "# 모델 피클링\n",
    "joblib.dump(model, '/Users/hyunjulee/project/SensibleTemp/data/pkl/s_multiple_ols.pkl')"
   ]
  },
  {
   "cell_type": "code",
   "execution_count": 24,
   "metadata": {},
   "outputs": [
    {
     "data": {
      "text/plain": [
       "LinearRegression()"
      ]
     },
     "execution_count": 24,
     "metadata": {},
     "output_type": "execute_result"
    }
   ],
   "source": [
    "# 잘 불러와 지는지 확인\n",
    "load_model = joblib.load('/Users/hyunjulee/project/SensibleTemp/data/pkl/s_multiple_ols.pkl')\n",
    "load_model"
   ]
  }
 ],
 "metadata": {
  "kernelspec": {
   "display_name": "project",
   "language": "python",
   "name": "python3"
  },
  "language_info": {
   "codemirror_mode": {
    "name": "ipython",
    "version": 3
   },
   "file_extension": ".py",
   "mimetype": "text/x-python",
   "name": "python",
   "nbconvert_exporter": "python",
   "pygments_lexer": "ipython3",
   "version": "3.8.16"
  },
  "orig_nbformat": 4
 },
 "nbformat": 4,
 "nbformat_minor": 2
}
